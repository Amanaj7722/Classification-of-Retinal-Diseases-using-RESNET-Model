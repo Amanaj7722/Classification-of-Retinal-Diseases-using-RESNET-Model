{
 "cells": [
  {
   "attachments": {
    "image.png": {
     "image/png": "[encoded data removed]"
    }
   },
   "cell_type": "markdown",
   "metadata": {},
   "source": [
    "![image.png](attachment:image.png)"
   ]
  },
  {
   "cell_type": "code",
   "execution_count": 1,
   "metadata": {},
   "outputs": [],
   "source": [
    "from skimage import io, transform"
   ]
  },
  {
   "cell_type": "code",
   "execution_count": 2,
   "metadata": {},
   "outputs": [],
   "source": [
    "from __future__ import print_function, division\n",
    "import numpy as np\n",
    "import matplotlib.pyplot as plt\n",
    "from torch.utils import data\n",
    "import torch\n",
    "from torch import nn\n",
    "from torch import optim\n",
    "import torchvision\n",
    "import torch.nn.functional as F\n",
    "from torchvision import datasets, transforms, models"
   ]
  },
  {
   "cell_type": "code",
   "execution_count": 3,
   "metadata": {},
   "outputs": [],
   "source": [
    "import torchvision.models as models\n",
    "from torch.utils.data.sampler import SubsetRandomSampler\n",
    "from torch.utils.data import Dataset, DataLoader\n",
    "from skimage import io, transform\n",
    "import torch.utils.data as data_utils\n",
    "from PIL import Image, ImageFile\n",
    "import json\n",
    "from torch.optim import lr_scheduler\n",
    "import time\n",
    "import os\n",
    "import argparse\n",
    "import copy\n",
    "import pandas as pd\n",
    "ImageFile.LOAD_TRUNCATED_IMAGES = True\n",
    "import cv2"
   ]
  },
  {
   "cell_type": "code",
   "execution_count": 4,
   "metadata": {},
   "outputs": [],
   "source": [
    "# Import useful sklearn functions\n",
    "import sklearn\n",
    "from sklearn.metrics import cohen_kappa_score, accuracy_score\n",
    "import time\n",
    "from tqdm import tqdm_notebook\n",
    "\n",
    "import os\n",
    "# base_dir = \"C:\\\\Users\\\\Harilal\\\\Desktop\\\\retinopathy\\\\sampleimages\" \n",
    "base_dir = r'C:\\Resnet model\\sampleimages'"
   ]
  },
  {
   "cell_type": "markdown",
   "metadata": {
    "colab_type": "text",
    "id": "view-in-github"
   },
   "source": [
    "<a href=\"https://colab.research.google.com/github/souravs17031999/Retinal_blindness_detection_Pytorch/blob/master/Single_test_inference.ipynb\" target=\"_parent\"><img src=\"https://colab.research.google.com/assets/colab-badge.svg\" alt=\"Open In Colab\"/></a>"
   ]
  },
  {
   "cell_type": "code",
   "execution_count": 5,
   "metadata": {
    "colab": {},
    "colab_type": "code",
    "id": "E1WjW_VUyQaa"
   },
   "outputs": [],
   "source": [
    "class CreateDataset(Dataset):\n",
    "    def __init__(self, df_data, data_dir = r\"C:\\Resnet model\\sampleimages\", transform=None):\n",
    "        super().__init__()\n",
    "        self.df = df_data.values\n",
    "        self.data_dir = data_dir\n",
    "        self.transform = transform\n",
    "\n",
    "    def __len__(self):\n",
    "        return len(self.df)\n",
    "    \n",
    "    def __getitem__(self, index):\n",
    "        img_name,label = self.df[index]\n",
    "        img_path = os.path.join(self.data_dir, img_name+'.png')\n",
    "        image = Image.open(img_path)\n",
    "        image.load()# if getting error, use PIL to load the image here.\n",
    "        if self.transform is not None:\n",
    "            image = self.transform(image)\n",
    "        return image, label"
   ]
  },
  {
   "cell_type": "code",
   "execution_count": 6,
   "metadata": {
    "colab": {},
    "colab_type": "code",
    "id": "HDJRlQicyQap"
   },
   "outputs": [],
   "source": [
    "# test_csv = pd.read_csv('C:\\\\Users\\\\Harilal\\\\Desktop\\\\retinopathy\\\\test.csv')\n",
    "test_csv = pd.read_csv(r'C:\\Resnet model\\test.csv')\n"
   ]
  },
  {
   "cell_type": "code",
   "execution_count": 7,
   "metadata": {
    "colab": {},
    "colab_type": "code",
    "id": "gVppvdUfyQau"
   },
   "outputs": [],
   "source": [
    "# test_path = \"C:\\\\Users\\\\Harilal\\\\Desktop\\\\retinopathy\\\\test_images\"\n",
    "test_path = r'C:\\Resnet model\\test_image'"
   ]
  },
  {
   "cell_type": "code",
   "execution_count": 8,
   "metadata": {
    "colab": {},
    "colab_type": "code",
    "id": "5uCeyL8CyQa7"
   },
   "outputs": [],
   "source": [
    "test_transforms = torchvision.transforms.Compose([\n",
    "    torchvision.transforms.Resize((224, 224)),\n",
    "#     Perform the preprocessing on each image of the data set. By using the\n",
    "#     compose function present in the transforms module we resize and\n",
    "#     normalize the images.\n",
    "    #torchvision.transforms.ColorJitter(brightness=2, contrast=2),\n",
    "    torchvision.transforms.RandomHorizontalFlip(p=0.5),\n",
    "    torchvision.transforms.ToTensor(),\n",
    "    torchvision.transforms.Normalize(mean=(0.485, 0.456, 0.406), std=(0.229, 0.224, 0.225))\n",
    "])"
   ]
  },
  {
   "cell_type": "code",
   "execution_count": 9,
   "metadata": {
    "colab": {},
    "colab_type": "code",
    "id": "w4EMG86xyQa9"
   },
   "outputs": [],
   "source": [
    "test_csv['diagnosis'] = -1\n"
   ]
  },
  {
   "cell_type": "code",
   "execution_count": 10,
   "metadata": {
    "colab": {},
    "colab_type": "code",
    "id": "H9ZYfDaCyQbJ"
   },
   "outputs": [],
   "source": [
    "test_data = CreateDataset(df_data=test_csv, data_dir=test_path, transform=test_transforms)\n",
    "test_loader = DataLoader(test_data, batch_size=64, shuffle=False)"
   ]
  },
  {
   "cell_type": "code",
   "execution_count": 11,
   "metadata": {
    "colab": {},
    "colab_type": "code",
    "id": "6u4PbduZyQbM"
   },
   "outputs": [],
   "source": [
    "def round_off_preds(preds, coef=[0.5, 1.5, 2.5, 3.5]):\n",
    "    for i, pred in enumerate(preds):\n",
    "            if pred < coef[0]:\n",
    "                preds[i] = 0\n",
    "            elif pred >= coef[0] and pred < coef[1]:\n",
    "                preds[i] = 1\n",
    "            elif pred >= coef[1] and pred < coef[2]:\n",
    "                preds[i] = 2\n",
    "            elif pred >= coef[2] and pred < coef[3]:\n",
    "                preds[i] = 3\n",
    "            else:\n",
    "                preds[i] = 4\n",
    "    return preds"
   ]
  },
  {
   "cell_type": "code",
   "execution_count": 12,
   "metadata": {
    "colab": {},
    "colab_type": "code",
    "id": "RoFP-7rkyQba"
   },
   "outputs": [],
   "source": [
    "def predict(testloader):\n",
    "    '''Function used to make predictions on the test set'''\n",
    "    model.eval()\n",
    "    preds = []\n",
    "    for batch_i, (data, target) in enumerate(testloader):\n",
    "        data, target = data.cuda(), target.cuda()\n",
    "        output = model(data)\n",
    "        pr = output.detach().cpu().numpy()\n",
    "        for i in pr:\n",
    "            preds.append(i.item())\n",
    "            \n",
    "    return preds"
   ]
  },
  {
   "cell_type": "code",
   "execution_count": 13,
   "metadata": {
    "colab": {},
    "colab_type": "code",
    "id": "8OAK8mGwyQbi"
   },
   "outputs": [],
   "source": [
    "def load_model(path):\n",
    "  checkpoint = torch.load(path,map_location=torch.device('cpu'))\n",
    "  model.load_state_dict(checkpoint['model_state_dict'])\n",
    "  optimizer.load_state_dict(checkpoint['optimizer_state_dict'])\n",
    "  return model"
   ]
  },
  {
   "cell_type": "code",
   "execution_count": 14,
   "metadata": {
    "colab": {},
    "colab_type": "code",
    "id": "K7f1z9RKyQbp"
   },
   "outputs": [
    {
     "name": "stderr",
     "output_type": "stream",
     "text": [
      "C:\\Users\\user\\anaconda3\\envs\\tf\\lib\\site-packages\\torchvision\\models\\_utils.py:208: UserWarning: The parameter 'pretrained' is deprecated since 0.13 and may be removed in the future, please use 'weights' instead.\n",
      "  warnings.warn(\n",
      "C:\\Users\\user\\anaconda3\\envs\\tf\\lib\\site-packages\\torchvision\\models\\_utils.py:223: UserWarning: Arguments other than a weight enum or `None` for 'weights' are deprecated since 0.13 and may be removed in the future. The current behavior is equivalent to passing `weights=None`.\n",
      "  warnings.warn(msg)\n"
     ]
    }
   ],
   "source": [
    "device = torch.device(\"cuda\" if torch.cuda.is_available() else \"cpu\")\n",
    "\n",
    "model = models.resnet152(pretrained=False) \n",
    "\n",
    "num_ftrs = model.fc.in_features \n",
    "out_ftrs = 5 \n",
    "  \n",
    "model.fc = nn.Sequential(nn.Linear(num_ftrs, 512),nn.ReLU(),nn.Linear(512,out_ftrs),nn.LogSoftmax(dim=1))\n",
    "\n",
    "criterion = nn.NLLLoss()\n",
    "optimizer = torch.optim.Adam(filter(lambda p:p.requires_grad,model.parameters()) , lr = 0.00001) \n",
    "\n",
    "scheduler = lr_scheduler.StepLR(optimizer, step_size=5, gamma=0.1)\n",
    "model.to(device);"
   ]
  },
  {
   "cell_type": "code",
   "execution_count": 15,
   "metadata": {
    "colab": {},
    "colab_type": "code",
    "id": "pF7lrBGyyQby",
    "outputId": "38443da0-2db4-4f4c-8ce2-50f9a35507dd"
   },
   "outputs": [],
   "source": [
    "# to unfreeze more layers \n",
    "for name,child in model.named_children():\n",
    "  if name in ['layer2','layer3','layer4','fc']:\n",
    "    for param in child.parameters():\n",
    "      param.requires_grad = True\n",
    "  else:\n",
    "    for param in child.parameters():\n",
    "      param.requires_grad = False"
   ]
  },
  {
   "cell_type": "code",
   "execution_count": 16,
   "metadata": {
    "colab": {},
    "colab_type": "code",
    "id": "sqaWCqQ6yQb-"
   },
   "outputs": [],
   "source": [
    "optimizer = torch.optim.Adam(filter(lambda p:p.requires_grad,model.parameters()) , lr = 0.000001) \n",
    "scheduler = lr_scheduler.StepLR(optimizer, step_size=5, gamma=0.1)"
   ]
  },
  {
   "cell_type": "code",
   "execution_count": 17,
   "metadata": {
    "colab": {},
    "colab_type": "code",
    "id": "kHPsRfUEyQcK"
   },
   "outputs": [],
   "source": [
    "model = load_model(r\"C:\\Resnet model\\classifier\\classifier.pt\")"
   ]
  },
  {
   "cell_type": "code",
   "execution_count": 18,
   "metadata": {
    "colab": {},
    "colab_type": "code",
    "id": "oToTzW9UyQcP"
   },
   "outputs": [],
   "source": [
    "# test_dir = \"C:\\\\Users\\\\Harilal\\\\Desktop\\\\retinopathy\\\\test_images\"\n",
    "test_dir = r'C:\\Resnet model\\test_image'"
   ]
  },
  {
   "cell_type": "code",
   "execution_count": null,
   "metadata": {},
   "outputs": [
    {
     "name": "stdout",
     "output_type": "stream",
     "text": [
      "10 pass step\n",
      "20 pass step\n"
     ]
    }
   ],
   "source": [
    "with torch.no_grad():\n",
    "    model.eval()\n",
    "    p_labels = []\n",
    "    img_ids = []\n",
    "    i = 0\n",
    "    for inputs, labels in test_loader:\n",
    "        i += 1\n",
    "        if i % 10 == 0:\n",
    "            print(f'{i} pass step')\n",
    "        inputs = inputs.to(device)\n",
    "        labels = labels.to(device)\n",
    "        outputs = model(inputs)\n",
    "        _, preds = torch.max(outputs, 1)\n",
    "        p_labels.append(preds)\n",
    "    # getting ids of file images    "
   ]
  },
  {
   "cell_type": "code",
   "execution_count": null,
   "metadata": {},
   "outputs": [],
   "source": [
    "pred_labels = []\n",
    "for l in p_labels:\n",
    "    for l1 in l:\n",
    "        pred_labels.append(l1.item())"
   ]
  },
  {
   "cell_type": "code",
   "execution_count": null,
   "metadata": {
    "colab": {},
    "colab_type": "code",
    "id": "RVctDWuOyQeY"
   },
   "outputs": [],
   "source": [
    "def test_with_single_image(model, file, transform, classes):\n",
    "\n",
    "    file = Image.open(file).convert('RGB')\n",
    "\n",
    "    img = transform(file).unsqueeze(0)\n",
    "\n",
    "    device = torch.device(\"cuda\" if torch.cuda.is_available() else \"cpu\")\n",
    "\n",
    "    with torch.no_grad():\n",
    "        out = model(img.to(device))\n",
    "        ps = torch.exp(out)\n",
    "        top_p, top_class = ps.topk(1, dim=1)\n",
    "        value = top_class.item()\n",
    "        print(\"Value:\", value)\n",
    "        print(classes[value])\n",
    "        plt.imshow(np.array(file))\n",
    "        plt.show()"
   ]
  },
  {
   "cell_type": "code",
   "execution_count": null,
   "metadata": {
    "colab": {},
    "colab_type": "code",
    "id": "KLWNzaJLyQeo",
    "outputId": "e80b5a7f-5494-4ad9-b1bd-510415cd6479"
   },
   "outputs": [],
   "source": [
    "import random\n",
    "\n",
    "# test_dir = \"C:\\\\Users\\\\Harilal\\\\Desktop\\\\retinopathy\\\\sampleimages\"\n",
    "# take random folder first\n",
    "# save label\n",
    "test_dir = r'C:\\Resnet model\\sampleimages'\n",
    "\n",
    "# now take random file\n",
    "files = os.listdir(test_dir)\n",
    "print(files)\n",
    "nums = random.randint(0, len(files)-1)\n",
    "for i in range(0,len(files)-1):\n",
    "    name = test_dir + \"\\\\\" + files[i]\n",
    "    classes = ['No DR', 'Mild', 'Moderate', 'Severe', 'Proliferative DR']\n",
    "    test_with_single_image = (model, name, test_transforms, classes)\n",
    "\n",
    "print('Path: ', name)"
   ]
  },
  {
   "cell_type": "code",
   "execution_count": null,
   "metadata": {
    "colab": {},
    "colab_type": "code",
    "id": "Nvcd6JNPyQe4",
    "outputId": "9f743824-3d58-4b9a-d81c-04dffc9d2b36"
   },
   "outputs": [],
   "source": [
    "classes = ['No DR', 'Mild', 'Moderate', 'Severe', 'Proliferative DR']\n",
    "test_with_single_image = (model, name, test_transforms, classes)"
   ]
  },
  {
   "cell_type": "code",
   "execution_count": null,
   "metadata": {},
   "outputs": [],
   "source": [
    "#gui.py\n",
    "# Importing all packages\n",
    "import tkinter as tk\n",
    "from tkinter import *\n",
    "from tkinter.ttk import *\n",
    "from tkinter import messagebox\n",
    "from PIL import Image,ImageTk\n",
    "import os\n",
    "from tkinter.filedialog import askopenfilename, asksaveasfilename\n",
    "from model import *\n",
    "#from send_sms import *\n",
    "print('GUI SYSTEM STARTED...')\n",
    "def OpenFile():\n",
    "    if y:\n",
    "        try:\n",
    "            a = askopenfilename()\n",
    "            print(a)\n",
    "            value, classes = main(a)\n",
    "            messagebox.showinfo(\"your report\", (\"Predicted Label: \", value, \"\\n Predicted Class: \", classes))\n",
    "            image = Image.open(a)\n",
    "            file = image.convert('RGB')\n",
    "            plt.imshow(np.array(file))\n",
    "            plt.title(f'Your Report \\n Label : {value} \\n Class : {classes}')\n",
    "            plt.show()\n",
    "            print('Thanks for using the system !')\n",
    "        except Exception as error:\n",
    "            print(\"File not selected ! Exiting..., Please try again\")\n",
    "\n",
    "y = True\n",
    "root = Tk()\n",
    "root.geometry('700x400')\n",
    "root.title(\"DIABETIC RETINOPATHY CLASSIFICATION\")\n",
    "root.configure(bg='#c488fc')\n",
    "label1 = tk.Label(root, text=\"DIABETIC RETINOPATHY\",bg='white', font=('Arial', 30), justify=\"center\")\n",
    "label1.grid(padx=100, pady=30, row=0,sticky='W')\n",
    "label2 = Label(root, text=\"Choose an image\", font=('Arial', 15))\n",
    "label2.grid(padx=230, pady=10, row=2, sticky='W')\n",
    "button2 = tk.Button(root, text=\"Upload Image\",bg='#cbc9be', command=OpenFile)\n",
    "button2.grid(padx=400, pady=10, row=2)\n",
    "\n",
    "root.mainloop()"
   ]
  },
  {
   "cell_type": "code",
   "execution_count": null,
   "metadata": {},
   "outputs": [],
   "source": []
  }
 ],
 "metadata": {
  "colab": {
   "include_colab_link": true,
   "name": "Single_test_inference.ipynb",
   "provenance": []
  },
  "kernelspec": {
   "display_name": "Python 3 (ipykernel)",
   "language": "python",
   "name": "python3"
  },
  "language_info": {
   "codemirror_mode": {
    "name": "ipython",
    "version": 3
   },
   "file_extension": ".py",
   "mimetype": "text/x-python",
   "name": "python",
   "nbconvert_exporter": "python",
   "pygments_lexer": "ipython3",
   "version": "3.10.4"
  }
 },
 "nbformat": 4,
 "nbformat_minor": 4
}
